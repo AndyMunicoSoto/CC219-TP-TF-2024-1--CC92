{
  "nbformat": 4,
  "nbformat_minor": 0,
  "metadata": {
    "colab": {
      "provenance": []
    },
    "kernelspec": {
      "name": "python3",
      "display_name": "Python 3"
    },
    "language_info": {
      "name": "python"
    }
  },
  "cells": [
    {
      "cell_type": "markdown",
      "source": [
        "![image.png](data:image/png;base64,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)"
      ],
      "metadata": {
        "id": "SrP_fBXTLZuV"
      }
    },
    {
      "cell_type": "markdown",
      "source": [
        "<h3 align=\"center\"><b>TRABAJO PARCIAL</b></h3>\n",
        "<h3 align=\"center\">2024-1</h3>\n"
      ],
      "metadata": {
        "id": "bupZl3gLL_JV"
      }
    },
    {
      "cell_type": "markdown",
      "source": [
        "---\n",
        "\n",
        "\n",
        "**Integrantes:**\n",
        "\n",
        "\n",
        "*   Andy Johan Muñico Soto - u201523017\n",
        "*   Lennin Jhair Vargas Soto - u20201e766\n",
        "*   Jorge Omar Tarapa Peña - u202021508\n",
        "*   Angel Ruben Zuñiga Lovera - u202111299\n",
        "\n",
        "\n",
        "\n",
        "\n",
        "\n",
        "---"
      ],
      "metadata": {
        "id": "xT4u-jAVL_Ac"
      }
    },
    {
      "cell_type": "markdown",
      "source": [
        "\"**Analisis Exploratorio de Datos**\""
      ],
      "metadata": {
        "id": "XxkaSBqZN8GB"
      }
    },
    {
      "cell_type": "code",
      "source": [
        "import nltk\n",
        "import string\n",
        "import pandas as pd\n",
        "import seaborn as sns\n",
        "import matplotlib.pyplot as plt\n",
        "from collections import Counter\n",
        "from nltk.corpus import stopwords\n",
        "from nltk.tokenize import word_tokenize\n",
        "from nltk.stem import WordNetLemmatizer"
      ],
      "metadata": {
        "id": "ebJqiUKcNBMB"
      },
      "execution_count": null,
      "outputs": []
    },
    {
      "cell_type": "code",
      "execution_count": null,
      "metadata": {
        "id": "qvPwtm0fLSbo"
      },
      "outputs": [],
      "source": [
        "# Cargar el dataset\n",
        "df = pd.read_csv('data.csv')"
      ]
    },
    {
      "cell_type": "code",
      "source": [
        "df"
      ],
      "metadata": {
        "colab": {
          "base_uri": "https://localhost:8080/",
          "height": 423
        },
        "id": "fc-wf0eIGMWk",
        "outputId": "83a207f5-b001-4b36-9ccf-3ad38df421f8"
      },
      "execution_count": null,
      "outputs": [
        {
          "output_type": "execute_result",
          "data": {
            "text/plain": [
              "       Y                                               text\n",
              "0      1  thirtysomething scientists unveil doomsday clo...\n",
              "1      0  dem rep totally nails why congress is falling ...\n",
              "2      0   eat your veggies 9 deliciously different recipes\n",
              "3      1  inclement weather prevents liar from getting t...\n",
              "4      1  mother comes pretty close to using word stream...\n",
              "...   ..                                                ...\n",
              "20028  1  tollbooth attendant wishes just one high speed...\n",
              "20029  0          emotional intelligence needs moral rudder\n",
              "20030  1  man putting off starting family to focus on tr...\n",
              "20031  0  the 8 most important lessons from my first yea...\n",
              "20032  1  priscilla chan leaves mark zuckerberg for onio...\n",
              "\n",
              "[20033 rows x 2 columns]"
            ],
            "text/html": [
              "\n",
              "  <div id=\"df-be36f425-5aa1-4672-9c26-39c2bf9ceaa9\" class=\"colab-df-container\">\n",
              "    <div>\n",
              "<style scoped>\n",
              "    .dataframe tbody tr th:only-of-type {\n",
              "        vertical-align: middle;\n",
              "    }\n",
              "\n",
              "    .dataframe tbody tr th {\n",
              "        vertical-align: top;\n",
              "    }\n",
              "\n",
              "    .dataframe thead th {\n",
              "        text-align: right;\n",
              "    }\n",
              "</style>\n",
              "<table border=\"1\" class=\"dataframe\">\n",
              "  <thead>\n",
              "    <tr style=\"text-align: right;\">\n",
              "      <th></th>\n",
              "      <th>Y</th>\n",
              "      <th>text</th>\n",
              "    </tr>\n",
              "  </thead>\n",
              "  <tbody>\n",
              "    <tr>\n",
              "      <th>0</th>\n",
              "      <td>1</td>\n",
              "      <td>thirtysomething scientists unveil doomsday clo...</td>\n",
              "    </tr>\n",
              "    <tr>\n",
              "      <th>1</th>\n",
              "      <td>0</td>\n",
              "      <td>dem rep totally nails why congress is falling ...</td>\n",
              "    </tr>\n",
              "    <tr>\n",
              "      <th>2</th>\n",
              "      <td>0</td>\n",
              "      <td>eat your veggies 9 deliciously different recipes</td>\n",
              "    </tr>\n",
              "    <tr>\n",
              "      <th>3</th>\n",
              "      <td>1</td>\n",
              "      <td>inclement weather prevents liar from getting t...</td>\n",
              "    </tr>\n",
              "    <tr>\n",
              "      <th>4</th>\n",
              "      <td>1</td>\n",
              "      <td>mother comes pretty close to using word stream...</td>\n",
              "    </tr>\n",
              "    <tr>\n",
              "      <th>...</th>\n",
              "      <td>...</td>\n",
              "      <td>...</td>\n",
              "    </tr>\n",
              "    <tr>\n",
              "      <th>20028</th>\n",
              "      <td>1</td>\n",
              "      <td>tollbooth attendant wishes just one high speed...</td>\n",
              "    </tr>\n",
              "    <tr>\n",
              "      <th>20029</th>\n",
              "      <td>0</td>\n",
              "      <td>emotional intelligence needs moral rudder</td>\n",
              "    </tr>\n",
              "    <tr>\n",
              "      <th>20030</th>\n",
              "      <td>1</td>\n",
              "      <td>man putting off starting family to focus on tr...</td>\n",
              "    </tr>\n",
              "    <tr>\n",
              "      <th>20031</th>\n",
              "      <td>0</td>\n",
              "      <td>the 8 most important lessons from my first yea...</td>\n",
              "    </tr>\n",
              "    <tr>\n",
              "      <th>20032</th>\n",
              "      <td>1</td>\n",
              "      <td>priscilla chan leaves mark zuckerberg for onio...</td>\n",
              "    </tr>\n",
              "  </tbody>\n",
              "</table>\n",
              "<p>20033 rows × 2 columns</p>\n",
              "</div>\n",
              "    <div class=\"colab-df-buttons\">\n",
              "\n",
              "  <div class=\"colab-df-container\">\n",
              "    <button class=\"colab-df-convert\" onclick=\"convertToInteractive('df-be36f425-5aa1-4672-9c26-39c2bf9ceaa9')\"\n",
              "            title=\"Convert this dataframe to an interactive table.\"\n",
              "            style=\"display:none;\">\n",
              "\n",
              "  <svg xmlns=\"http://www.w3.org/2000/svg\" height=\"24px\" viewBox=\"0 -960 960 960\">\n",
              "    <path d=\"M120-120v-720h720v720H120Zm60-500h600v-160H180v160Zm220 220h160v-160H400v160Zm0 220h160v-160H400v160ZM180-400h160v-160H180v160Zm440 0h160v-160H620v160ZM180-180h160v-160H180v160Zm440 0h160v-160H620v160Z\"/>\n",
              "  </svg>\n",
              "    </button>\n",
              "\n",
              "  <style>\n",
              "    .colab-df-container {\n",
              "      display:flex;\n",
              "      gap: 12px;\n",
              "    }\n",
              "\n",
              "    .colab-df-convert {\n",
              "      background-color: #E8F0FE;\n",
              "      border: none;\n",
              "      border-radius: 50%;\n",
              "      cursor: pointer;\n",
              "      display: none;\n",
              "      fill: #1967D2;\n",
              "      height: 32px;\n",
              "      padding: 0 0 0 0;\n",
              "      width: 32px;\n",
              "    }\n",
              "\n",
              "    .colab-df-convert:hover {\n",
              "      background-color: #E2EBFA;\n",
              "      box-shadow: 0px 1px 2px rgba(60, 64, 67, 0.3), 0px 1px 3px 1px rgba(60, 64, 67, 0.15);\n",
              "      fill: #174EA6;\n",
              "    }\n",
              "\n",
              "    .colab-df-buttons div {\n",
              "      margin-bottom: 4px;\n",
              "    }\n",
              "\n",
              "    [theme=dark] .colab-df-convert {\n",
              "      background-color: #3B4455;\n",
              "      fill: #D2E3FC;\n",
              "    }\n",
              "\n",
              "    [theme=dark] .colab-df-convert:hover {\n",
              "      background-color: #434B5C;\n",
              "      box-shadow: 0px 1px 3px 1px rgba(0, 0, 0, 0.15);\n",
              "      filter: drop-shadow(0px 1px 2px rgba(0, 0, 0, 0.3));\n",
              "      fill: #FFFFFF;\n",
              "    }\n",
              "  </style>\n",
              "\n",
              "    <script>\n",
              "      const buttonEl =\n",
              "        document.querySelector('#df-be36f425-5aa1-4672-9c26-39c2bf9ceaa9 button.colab-df-convert');\n",
              "      buttonEl.style.display =\n",
              "        google.colab.kernel.accessAllowed ? 'block' : 'none';\n",
              "\n",
              "      async function convertToInteractive(key) {\n",
              "        const element = document.querySelector('#df-be36f425-5aa1-4672-9c26-39c2bf9ceaa9');\n",
              "        const dataTable =\n",
              "          await google.colab.kernel.invokeFunction('convertToInteractive',\n",
              "                                                    [key], {});\n",
              "        if (!dataTable) return;\n",
              "\n",
              "        const docLinkHtml = 'Like what you see? Visit the ' +\n",
              "          '<a target=\"_blank\" href=https://colab.research.google.com/notebooks/data_table.ipynb>data table notebook</a>'\n",
              "          + ' to learn more about interactive tables.';\n",
              "        element.innerHTML = '';\n",
              "        dataTable['output_type'] = 'display_data';\n",
              "        await google.colab.output.renderOutput(dataTable, element);\n",
              "        const docLink = document.createElement('div');\n",
              "        docLink.innerHTML = docLinkHtml;\n",
              "        element.appendChild(docLink);\n",
              "      }\n",
              "    </script>\n",
              "  </div>\n",
              "\n",
              "\n",
              "<div id=\"df-8e2ffeed-eef0-4d12-965a-a5f8f1b070dc\">\n",
              "  <button class=\"colab-df-quickchart\" onclick=\"quickchart('df-8e2ffeed-eef0-4d12-965a-a5f8f1b070dc')\"\n",
              "            title=\"Suggest charts\"\n",
              "            style=\"display:none;\">\n",
              "\n",
              "<svg xmlns=\"http://www.w3.org/2000/svg\" height=\"24px\"viewBox=\"0 0 24 24\"\n",
              "     width=\"24px\">\n",
              "    <g>\n",
              "        <path d=\"M19 3H5c-1.1 0-2 .9-2 2v14c0 1.1.9 2 2 2h14c1.1 0 2-.9 2-2V5c0-1.1-.9-2-2-2zM9 17H7v-7h2v7zm4 0h-2V7h2v10zm4 0h-2v-4h2v4z\"/>\n",
              "    </g>\n",
              "</svg>\n",
              "  </button>\n",
              "\n",
              "<style>\n",
              "  .colab-df-quickchart {\n",
              "      --bg-color: #E8F0FE;\n",
              "      --fill-color: #1967D2;\n",
              "      --hover-bg-color: #E2EBFA;\n",
              "      --hover-fill-color: #174EA6;\n",
              "      --disabled-fill-color: #AAA;\n",
              "      --disabled-bg-color: #DDD;\n",
              "  }\n",
              "\n",
              "  [theme=dark] .colab-df-quickchart {\n",
              "      --bg-color: #3B4455;\n",
              "      --fill-color: #D2E3FC;\n",
              "      --hover-bg-color: #434B5C;\n",
              "      --hover-fill-color: #FFFFFF;\n",
              "      --disabled-bg-color: #3B4455;\n",
              "      --disabled-fill-color: #666;\n",
              "  }\n",
              "\n",
              "  .colab-df-quickchart {\n",
              "    background-color: var(--bg-color);\n",
              "    border: none;\n",
              "    border-radius: 50%;\n",
              "    cursor: pointer;\n",
              "    display: none;\n",
              "    fill: var(--fill-color);\n",
              "    height: 32px;\n",
              "    padding: 0;\n",
              "    width: 32px;\n",
              "  }\n",
              "\n",
              "  .colab-df-quickchart:hover {\n",
              "    background-color: var(--hover-bg-color);\n",
              "    box-shadow: 0 1px 2px rgba(60, 64, 67, 0.3), 0 1px 3px 1px rgba(60, 64, 67, 0.15);\n",
              "    fill: var(--button-hover-fill-color);\n",
              "  }\n",
              "\n",
              "  .colab-df-quickchart-complete:disabled,\n",
              "  .colab-df-quickchart-complete:disabled:hover {\n",
              "    background-color: var(--disabled-bg-color);\n",
              "    fill: var(--disabled-fill-color);\n",
              "    box-shadow: none;\n",
              "  }\n",
              "\n",
              "  .colab-df-spinner {\n",
              "    border: 2px solid var(--fill-color);\n",
              "    border-color: transparent;\n",
              "    border-bottom-color: var(--fill-color);\n",
              "    animation:\n",
              "      spin 1s steps(1) infinite;\n",
              "  }\n",
              "\n",
              "  @keyframes spin {\n",
              "    0% {\n",
              "      border-color: transparent;\n",
              "      border-bottom-color: var(--fill-color);\n",
              "      border-left-color: var(--fill-color);\n",
              "    }\n",
              "    20% {\n",
              "      border-color: transparent;\n",
              "      border-left-color: var(--fill-color);\n",
              "      border-top-color: var(--fill-color);\n",
              "    }\n",
              "    30% {\n",
              "      border-color: transparent;\n",
              "      border-left-color: var(--fill-color);\n",
              "      border-top-color: var(--fill-color);\n",
              "      border-right-color: var(--fill-color);\n",
              "    }\n",
              "    40% {\n",
              "      border-color: transparent;\n",
              "      border-right-color: var(--fill-color);\n",
              "      border-top-color: var(--fill-color);\n",
              "    }\n",
              "    60% {\n",
              "      border-color: transparent;\n",
              "      border-right-color: var(--fill-color);\n",
              "    }\n",
              "    80% {\n",
              "      border-color: transparent;\n",
              "      border-right-color: var(--fill-color);\n",
              "      border-bottom-color: var(--fill-color);\n",
              "    }\n",
              "    90% {\n",
              "      border-color: transparent;\n",
              "      border-bottom-color: var(--fill-color);\n",
              "    }\n",
              "  }\n",
              "</style>\n",
              "\n",
              "  <script>\n",
              "    async function quickchart(key) {\n",
              "      const quickchartButtonEl =\n",
              "        document.querySelector('#' + key + ' button');\n",
              "      quickchartButtonEl.disabled = true;  // To prevent multiple clicks.\n",
              "      quickchartButtonEl.classList.add('colab-df-spinner');\n",
              "      try {\n",
              "        const charts = await google.colab.kernel.invokeFunction(\n",
              "            'suggestCharts', [key], {});\n",
              "      } catch (error) {\n",
              "        console.error('Error during call to suggestCharts:', error);\n",
              "      }\n",
              "      quickchartButtonEl.classList.remove('colab-df-spinner');\n",
              "      quickchartButtonEl.classList.add('colab-df-quickchart-complete');\n",
              "    }\n",
              "    (() => {\n",
              "      let quickchartButtonEl =\n",
              "        document.querySelector('#df-8e2ffeed-eef0-4d12-965a-a5f8f1b070dc button');\n",
              "      quickchartButtonEl.style.display =\n",
              "        google.colab.kernel.accessAllowed ? 'block' : 'none';\n",
              "    })();\n",
              "  </script>\n",
              "</div>\n",
              "\n",
              "  <div id=\"id_c10482a5-e594-4ade-a6c7-d99400c1e52a\">\n",
              "    <style>\n",
              "      .colab-df-generate {\n",
              "        background-color: #E8F0FE;\n",
              "        border: none;\n",
              "        border-radius: 50%;\n",
              "        cursor: pointer;\n",
              "        display: none;\n",
              "        fill: #1967D2;\n",
              "        height: 32px;\n",
              "        padding: 0 0 0 0;\n",
              "        width: 32px;\n",
              "      }\n",
              "\n",
              "      .colab-df-generate:hover {\n",
              "        background-color: #E2EBFA;\n",
              "        box-shadow: 0px 1px 2px rgba(60, 64, 67, 0.3), 0px 1px 3px 1px rgba(60, 64, 67, 0.15);\n",
              "        fill: #174EA6;\n",
              "      }\n",
              "\n",
              "      [theme=dark] .colab-df-generate {\n",
              "        background-color: #3B4455;\n",
              "        fill: #D2E3FC;\n",
              "      }\n",
              "\n",
              "      [theme=dark] .colab-df-generate:hover {\n",
              "        background-color: #434B5C;\n",
              "        box-shadow: 0px 1px 3px 1px rgba(0, 0, 0, 0.15);\n",
              "        filter: drop-shadow(0px 1px 2px rgba(0, 0, 0, 0.3));\n",
              "        fill: #FFFFFF;\n",
              "      }\n",
              "    </style>\n",
              "    <button class=\"colab-df-generate\" onclick=\"generateWithVariable('df')\"\n",
              "            title=\"Generate code using this dataframe.\"\n",
              "            style=\"display:none;\">\n",
              "\n",
              "  <svg xmlns=\"http://www.w3.org/2000/svg\" height=\"24px\"viewBox=\"0 0 24 24\"\n",
              "       width=\"24px\">\n",
              "    <path d=\"M7,19H8.4L18.45,9,17,7.55,7,17.6ZM5,21V16.75L18.45,3.32a2,2,0,0,1,2.83,0l1.4,1.43a1.91,1.91,0,0,1,.58,1.4,1.91,1.91,0,0,1-.58,1.4L9.25,21ZM18.45,9,17,7.55Zm-12,3A5.31,5.31,0,0,0,4.9,8.1,5.31,5.31,0,0,0,1,6.5,5.31,5.31,0,0,0,4.9,4.9,5.31,5.31,0,0,0,6.5,1,5.31,5.31,0,0,0,8.1,4.9,5.31,5.31,0,0,0,12,6.5,5.46,5.46,0,0,0,6.5,12Z\"/>\n",
              "  </svg>\n",
              "    </button>\n",
              "    <script>\n",
              "      (() => {\n",
              "      const buttonEl =\n",
              "        document.querySelector('#id_c10482a5-e594-4ade-a6c7-d99400c1e52a button.colab-df-generate');\n",
              "      buttonEl.style.display =\n",
              "        google.colab.kernel.accessAllowed ? 'block' : 'none';\n",
              "\n",
              "      buttonEl.onclick = () => {\n",
              "        google.colab.notebook.generateWithVariable('df');\n",
              "      }\n",
              "      })();\n",
              "    </script>\n",
              "  </div>\n",
              "\n",
              "    </div>\n",
              "  </div>\n"
            ],
            "application/vnd.google.colaboratory.intrinsic+json": {
              "type": "dataframe",
              "variable_name": "df",
              "summary": "{\n  \"name\": \"df\",\n  \"rows\": 20033,\n  \"fields\": [\n    {\n      \"column\": \"Y\",\n      \"properties\": {\n        \"dtype\": \"number\",\n        \"std\": 0,\n        \"min\": 0,\n        \"max\": 1,\n        \"num_unique_values\": 2,\n        \"samples\": [\n          0,\n          1\n        ],\n        \"semantic_type\": \"\",\n        \"description\": \"\"\n      }\n    },\n    {\n      \"column\": \"text\",\n      \"properties\": {\n        \"dtype\": \"string\",\n        \"num_unique_values\": 19964,\n        \"samples\": [\n          \"u cryptographers frpx k5je oc4n e5dn \",\n          \"lunch barely misses area man vital organs\"\n        ],\n        \"semantic_type\": \"\",\n        \"description\": \"\"\n      }\n    }\n  ]\n}"
            }
          },
          "metadata": {},
          "execution_count": 3
        }
      ]
    },
    {
      "cell_type": "code",
      "source": [
        "# Mostrar las primeras filas y obtener información\n",
        "print(df.head())\n",
        "print(df.info())"
      ],
      "metadata": {
        "colab": {
          "base_uri": "https://localhost:8080/"
        },
        "id": "f3rbe-k6NSu6",
        "outputId": "e72b88bc-b8c3-4143-8864-7f40b8c89e71"
      },
      "execution_count": null,
      "outputs": [
        {
          "output_type": "stream",
          "name": "stdout",
          "text": [
            "   Y                                               text\n",
            "0  1  thirtysomething scientists unveil doomsday clo...\n",
            "1  0  dem rep totally nails why congress is falling ...\n",
            "2  0   eat your veggies 9 deliciously different recipes\n",
            "3  1  inclement weather prevents liar from getting t...\n",
            "4  1  mother comes pretty close to using word stream...\n",
            "<class 'pandas.core.frame.DataFrame'>\n",
            "RangeIndex: 20033 entries, 0 to 20032\n",
            "Data columns (total 2 columns):\n",
            " #   Column  Non-Null Count  Dtype \n",
            "---  ------  --------------  ----- \n",
            " 0   Y       20033 non-null  int64 \n",
            " 1   text    20033 non-null  object\n",
            "dtypes: int64(1), object(1)\n",
            "memory usage: 313.1+ KB\n",
            "None\n"
          ]
        }
      ]
    },
    {
      "cell_type": "code",
      "source": [
        "# Gráfico de conteo de clases\n",
        "sns.countplot(x='Y', data=df)\n",
        "plt.xlabel('Clase')\n",
        "plt.ylabel('Cantidad')\n",
        "plt.title('Distribución de Clases')\n",
        "plt.show()"
      ],
      "metadata": {
        "colab": {
          "base_uri": "https://localhost:8080/",
          "height": 472
        },
        "id": "kQc4fD8XNbB5",
        "outputId": "7292a0fb-4699-477f-f13b-a8b0c862a327"
      },
      "execution_count": null,
      "outputs": [
        {
          "output_type": "display_data",
          "data": {
            "text/plain": [
              "<Figure size 640x480 with 1 Axes>"
            ],
            "image/png": "[encoded data removed]"
          },
          "metadata": {}
        }
      ]
    },
    {
      "cell_type": "code",
      "source": [
        "# Agregar una columna con la longitud de los textos\n",
        "df['longitud_texto'] = df['text'].apply(lambda x: len(x.split()))\n",
        "\n",
        "# Histograma de longitud de textos\n",
        "sns.histplot(df['longitud_texto'])\n",
        "plt.xlabel('Longitud del Texto')\n",
        "plt.ylabel('Frecuencia')\n",
        "plt.title('Distribución de Longitud de Textos')\n",
        "plt.show()"
      ],
      "metadata": {
        "colab": {
          "base_uri": "https://localhost:8080/",
          "height": 472
        },
        "id": "wQiLwFnZNfWI",
        "outputId": "7eb4f923-f1fa-4a34-c0af-e48246feaf86"
      },
      "execution_count": null,
      "outputs": [
        {
          "output_type": "display_data",
          "data": {
            "text/plain": [
              "<Figure size 640x480 with 1 Axes>"
            ],
            "image/png": "[encoded data removed]"
          },
          "metadata": {}
        }
      ]
    },
    {
      "cell_type": "code",
      "source": [
        "# Tokenización de los textos\n",
        "nltk.download('punkt')\n",
        "df['tokens'] = df['text'].apply(lambda x: word_tokenize(x.lower()))\n",
        "\n",
        "# Conteo de palabras\n",
        "word_counts = Counter()\n",
        "df['tokens'].apply(word_counts.update)\n",
        "\n",
        "# Palabras más comunes\n",
        "common_words = word_counts.most_common(10)\n",
        "print(common_words)"
      ],
      "metadata": {
        "colab": {
          "base_uri": "https://localhost:8080/"
        },
        "id": "T3bcck_WNoWh",
        "outputId": "b905cc29-169c-414f-e02b-255fb924346c"
      },
      "execution_count": null,
      "outputs": [
        {
          "output_type": "stream",
          "name": "stderr",
          "text": [
            "[nltk_data] Downloading package punkt to /root/nltk_data...\n",
            "[nltk_data]   Package punkt is already up-to-date!\n"
          ]
        },
        {
          "output_type": "stream",
          "name": "stdout",
          "text": [
            "[('to', 6446), ('of', 4386), ('the', 3824), ('in', 3209), ('for', 2567), ('on', 1843), ('and', 1412), ('with', 1373), ('trump', 1227), ('is', 1192)]\n"
          ]
        }
      ]
    },
    {
      "cell_type": "markdown",
      "source": [
        "\"**Preprocesamiento**\""
      ],
      "metadata": {
        "id": "7txpOHbWOBUZ"
      }
    },
    {
      "cell_type": "code",
      "source": [
        "# Función para eliminar signos de puntuación\n",
        "def remove_punctuation(text):\n",
        "    return ''.join([char for char in text if char not in string.punctuation])\n",
        "\n",
        "# Aplicar la función a los tokens\n",
        "df['tokens'] = df['tokens'].apply(lambda x: [remove_punctuation(token) for token in x])\n"
      ],
      "metadata": {
        "id": "5RXznqhqOGfB"
      },
      "execution_count": null,
      "outputs": []
    },
    {
      "cell_type": "code",
      "source": [
        "nltk.download('stopwords')\n",
        "\n",
        "# Obtener lista de stopwords en inglés\n",
        "stop_words = set(stopwords.words('english'))\n",
        "\n",
        "# Función para eliminar stopwords\n",
        "def remove_stopwords(tokens):\n",
        "    return [token for token in tokens if token not in stop_words]\n",
        "\n",
        "# Aplicar la función a los tokens\n",
        "df['tokens'] = df['tokens'].apply(remove_stopwords)\n",
        "\n",
        "print(df[['tokens']].head())"
      ],
      "metadata": {
        "colab": {
          "base_uri": "https://localhost:8080/"
        },
        "id": "dtxZjsY8OPLx",
        "outputId": "9c772ae0-b5f4-4887-c1b1-d95164bc04f7"
      },
      "execution_count": null,
      "outputs": [
        {
          "output_type": "stream",
          "name": "stdout",
          "text": [
            "                                              tokens\n",
            "0  [thirtysomething, scientists, unveil, doomsday...\n",
            "1  [dem, rep, totally, nails, congress, falling, ...\n",
            "2  [eat, veggies, 9, deliciously, different, reci...\n",
            "3  [inclement, weather, prevents, liar, getting, ...\n",
            "4  [mother, comes, pretty, close, using, word, st...\n"
          ]
        },
        {
          "output_type": "stream",
          "name": "stderr",
          "text": [
            "[nltk_data] Downloading package stopwords to /root/nltk_data...\n",
            "[nltk_data]   Package stopwords is already up-to-date!\n"
          ]
        }
      ]
    },
    {
      "cell_type": "code",
      "source": [
        "nltk.download('wordnet')\n",
        "\n",
        "# Inicializar lematizador\n",
        "lemmatizer = WordNetLemmatizer()\n",
        "\n",
        "# Función para lematizar tokens\n",
        "def lemmatize_tokens(tokens):\n",
        "    return [lemmatizer.lemmatize(token) for token in tokens]\n",
        "\n",
        "# Aplicar la función a los tokens\n",
        "df['tokens'] = df['tokens'].apply(lemmatize_tokens)\n",
        "\n",
        "print(df[['tokens']].head())\n"
      ],
      "metadata": {
        "colab": {
          "base_uri": "https://localhost:8080/"
        },
        "id": "gZMkw5CEOT6R",
        "outputId": "e414e089-e3bc-4f31-9fe8-393427a54e94"
      },
      "execution_count": null,
      "outputs": [
        {
          "output_type": "stream",
          "name": "stderr",
          "text": [
            "[nltk_data] Downloading package wordnet to /root/nltk_data...\n",
            "[nltk_data]   Package wordnet is already up-to-date!\n"
          ]
        },
        {
          "output_type": "stream",
          "name": "stdout",
          "text": [
            "                                              tokens\n",
            "0  [thirtysomething, scientist, unveil, doomsday,...\n",
            "1  [dem, rep, totally, nail, congress, falling, s...\n",
            "2   [eat, veggie, 9, deliciously, different, recipe]\n",
            "3  [inclement, weather, prevents, liar, getting, ...\n",
            "4  [mother, come, pretty, close, using, word, str...\n"
          ]
        }
      ]
    },
    {
      "cell_type": "code",
      "source": [
        "# Ejemplo de convertir tokens a minúsculas\n",
        "def to_lowercase(tokens):\n",
        "    return [token.lower() for token in tokens]\n",
        "\n",
        "# Aplicar conversión a minúsculas a cada lista de tokens\n",
        "df['tokens'] = df['tokens'].apply(to_lowercase)\n",
        "\n",
        "print(df[['tokens']].head())"
      ],
      "metadata": {
        "colab": {
          "base_uri": "https://localhost:8080/"
        },
        "id": "kcHkKLyHQqgh",
        "outputId": "b190e655-f844-4cb1-e6c3-beafa1c1dd45"
      },
      "execution_count": null,
      "outputs": [
        {
          "output_type": "stream",
          "name": "stdout",
          "text": [
            "                                              tokens\n",
            "0  [thirtysomething, scientist, unveil, doomsday,...\n",
            "1  [dem, rep, totally, nail, congress, falling, s...\n",
            "2   [eat, veggie, 9, deliciously, different, recipe]\n",
            "3  [inclement, weather, prevents, liar, getting, ...\n",
            "4  [mother, come, pretty, close, using, word, str...\n"
          ]
        }
      ]
    },
    {
      "cell_type": "code",
      "source": [
        "# Crear un nuevo DataFrame con las columnas 'Y' y 'tokens'\n",
        "new_df = df[['Y', 'tokens']].copy()\n",
        "\n",
        "# Guardar el nuevo DataFrame en un archivo CSV\n",
        "new_df.to_csv('new_data.csv', index=False)\n",
        "\n",
        "print(new_df)"
      ],
      "metadata": {
        "colab": {
          "base_uri": "https://localhost:8080/"
        },
        "id": "s6VRFarPS65R",
        "outputId": "d920a7cf-2c7d-4452-a933-de7cd4ae2c5e"
      },
      "execution_count": null,
      "outputs": [
        {
          "output_type": "stream",
          "name": "stdout",
          "text": [
            "       Y                                             tokens\n",
            "0      1  [thirtysomething, scientist, unveil, doomsday,...\n",
            "1      0  [dem, rep, totally, nail, congress, falling, s...\n",
            "2      0   [eat, veggie, 9, deliciously, different, recipe]\n",
            "3      1  [inclement, weather, prevents, liar, getting, ...\n",
            "4      1  [mother, come, pretty, close, using, word, str...\n",
            "...   ..                                                ...\n",
            "20028  1  [tollbooth, attendant, wish, one, high, speed,...\n",
            "20029  0     [emotional, intelligence, need, moral, rudder]\n",
            "20030  1  [man, putting, starting, family, focus, treadi...\n",
            "20031  0       [8, important, lesson, first, year, college]\n",
            "20032  1  [priscilla, chan, leaf, mark, zuckerberg, onio...\n",
            "\n",
            "[20033 rows x 2 columns]\n"
          ]
        }
      ]
    }
  ]
}